{
  "nbformat": 4,
  "nbformat_minor": 0,
  "metadata": {
    "colab": {
      "provenance": [],
      "authorship_tag": "ABX9TyPo6UnQoqTAA5oDxqrG6DPW",
      "include_colab_link": true
    },
    "kernelspec": {
      "name": "python3",
      "display_name": "Python 3"
    },
    "language_info": {
      "name": "python"
    }
  },
  "cells": [
    {
      "cell_type": "markdown",
      "metadata": {
        "id": "view-in-github",
        "colab_type": "text"
      },
      "source": [
        "<a href=\"https://colab.research.google.com/github/carlinhoshk/Aulas-Curso-Python-Senai/blob/main/Aula_14.ipynb\" target=\"_parent\"><img src=\"https://colab.research.google.com/assets/colab-badge.svg\" alt=\"Open In Colab\"/></a>"
      ]
    },
    {
      "cell_type": "markdown",
      "source": [
        "Dicionarios\n",
        "\n",
        "### Métodos úteis dos dicionários em Python\n",
        "### len - quantas chaves\n",
        "### keys - iterável com as chaves\n",
        "### values - iterável com os valores\n",
        "### items - iterável com chaves e valores\n",
        "### setdefault - adiciona valor se a chave não existe\n",
        "### copy - retorna uma cópia rasa (shallow copy)\n",
        "### get - obtém uma chave\n",
        "### pop - Apaga um item com a chave especificada (del)\n",
        "### popitem - Apaga o último item adicionado\n",
        "### update - Atualiza um dicionário com outro\n"
      ],
      "metadata": {
        "id": "IbzyFZLT_UsI"
      }
    },
    {
      "cell_type": "markdown",
      "source": [
        "### Dicionários em Python (tipo dict)\n",
        "### Dicionários são estruturas de dados do tipo\n",
        "### par de \"chave\" e \"valor\".\n",
        "### Chaves podem ser consideradas como o \"índice\"\n",
        "### que vimos na lista e podem ser de tipos imutáveis\n",
        "### como: str, int, float, bool, tuple, etc.\n",
        "### O valor pode ser de qualquer tipo, incluindo outro\n",
        "### dicionário.\n",
        "### Usamos as chaves - {} - ou a classe dict para criar\n",
        "### dicionários.\n",
        "### Imutáveis: str, int, float, bool, tuple\n",
        "### Mutável: dict, list"
      ],
      "metadata": {
        "id": "_tzov11hEtMH"
      }
    },
    {
      "cell_type": "code",
      "execution_count": null,
      "metadata": {
        "id": "94ep__kC9ag4"
      },
      "outputs": [],
      "source": [
        "\n",
        "# pessoa = {\n",
        "#     'nome': 'Luiz Otávio',\n",
        "#     'sobrenome': 'Miranda',\n",
        "#     'idade': 18,\n",
        "#     'altura': 1.8,\n",
        "#     'endereços': [\n",
        "#         {'rua': 'tal tal', 'número': 123},\n",
        "#         {'rua': 'outra rua', 'número': 321},\n",
        "#     ]\n",
        "# }\n",
        "# pessoa = dict(nome='Luiz Otávio', sobrenome='Miranda')\n",
        "pessoa = {\n",
        "    'nome': 'João',\n",
        "    'sobrenome': 'Silva',\n",
        "    'idade': 20,\n",
        "    'altura': 1.81,\n",
        "    'endereços': [\n",
        "        {'rua': 'tal tal', 'número': 123},\n",
        "        {'rua2': 'outra rua', 'número': 321},\n",
        "    ],\n",
        "}\n",
        "# print(pessoa, type(pessoa))\n",
        "print(pessoa['nome'])\n",
        "print(pessoa['sobrenome'])\n",
        "\n",
        "\n",
        "for chave in pessoa:\n",
        "    print(chave, pessoa[chave])"
      ]
    },
    {
      "cell_type": "code",
      "source": [
        "# Métodos úteis dos dicionários em Python\n",
        "# len - quantas chaves\n",
        "# keys - iterável com as chaves\n",
        "# values - iterável com os valores\n",
        "# items - iterável com chaves e valores\n",
        "# setdefault - adiciona valor se a chave não existe\n",
        "# copy - retorna uma cópia rasa (shallow copy)\n",
        "# get - obtém uma chave\n",
        "# pop - Apaga um item com a chave especificada (del)\n",
        "# popitem - Apaga o último item adicionado\n",
        "# update - Atualiza um dicionário com outro\n",
        "pessoa = {\n",
        "    'nome': 'João Vinicius ',\n",
        "    'sobrenome': 'De Souza',\n",
        "    'idade': 22,\n",
        "}\n",
        "\n",
        "pessoa.setdefault('idade', 1)\n",
        "# print(pessoa['idade'])\n",
        "print(len(pessoa))\n",
        "# print(list(pessoa.keys()))\n",
        "print(list(pessoa.values()))\n",
        "print(list(pessoa.items()))\n",
        "\n",
        "#for valor in pessoa.values():\n",
        "#     print(valor)\n",
        "\n",
        "for chave, valor in pessoa.items():\n",
        "     print(chave, valor)"
      ],
      "metadata": {
        "id": "FUto4dtqE6JL"
      },
      "execution_count": null,
      "outputs": []
    },
    {
      "cell_type": "code",
      "source": [
        "\n",
        "import copy\n",
        "\n",
        "d1 = {\n",
        "    'c1': 1,\n",
        "    'c2': 2,\n",
        "    'l1': [0, 1, 2],\n",
        "}\n",
        "\n",
        "d2 = d1.copy()\n",
        "#d2 = copy.deepcopy(d1)\n",
        "\n",
        "d2['c1'] = 1000\n",
        "d2['l1'][1] = 999999\n",
        "\n",
        "print(d1)\n",
        "print(d2)"
      ],
      "metadata": {
        "colab": {
          "base_uri": "https://localhost:8080/"
        },
        "id": "4LFv0nRnEKgX",
        "outputId": "e0606118-c19f-4956-849e-9c9fc95f78f1"
      },
      "execution_count": null,
      "outputs": [
        {
          "output_type": "stream",
          "name": "stdout",
          "text": [
            "{'c1': 1, 'c2': 2, 'l1': [0, 1, 2]}\n",
            "{'c1': 1000, 'c2': 2, 'l1': [0, 999999, 2]}\n"
          ]
        }
      ]
    },
    {
      "cell_type": "code",
      "source": [],
      "metadata": {
        "id": "LQ1Y-F5ILWwY"
      },
      "execution_count": null,
      "outputs": []
    },
    {
      "cell_type": "code",
      "source": [
        "p1 = {\n",
        "    'nome': 'Luiz',\n",
        "    'sobrenome': 'Miranda',\n",
        "}\n",
        "# print(p1['nome'])\n",
        "print(p1.get('nome', 'Não existe'))\n",
        "\n",
        "# nome = p1.pop('nome')\n",
        "# print(nome)\n",
        "# print(p1)\n",
        "# ultima_chave = p1.popitem()\n",
        "# print(ultima_chave)\n",
        "# print(p1)\n",
        "# p1.update({\n",
        "#     'nome': 'novo valor',\n",
        "#     'idade': 30,\n",
        "# })\n",
        "# p1.update(nome='novo valor', idade=30)\n",
        "# tupla = (('nome', 'novo valor'), ('idade', 30))\n",
        "lista = [['nome', 'novo valor'], ['idade', 30]]\n",
        "p1.update(lista)\n",
        "print(p1)"
      ],
      "metadata": {
        "id": "aaxmw3rZLQjE"
      },
      "execution_count": null,
      "outputs": []
    },
    {
      "cell_type": "markdown",
      "source": [
        "# Exercício - sistema de perguntas e respostas"
      ],
      "metadata": {
        "id": "T8GNh37NPh5S"
      }
    },
    {
      "cell_type": "code",
      "source": [
        "qtd_acertos = 0\n",
        "perguntas = [\n",
        "    {\n",
        "        'Pergunta': 'Quanto é 2+2?',\n",
        "        'Opções': ['1', '3', '4', '5'],\n",
        "        'Resposta': '4',\n",
        "    },\n",
        "    {\n",
        "        'Pergunta': 'Quanto é 5*5?',\n",
        "        'Opções': ['25', '55', '10', '51'],\n",
        "        'Resposta': '25',\n",
        "    },\n",
        "    {\n",
        "        'Pergunta': 'Quanto é 10/2?',\n",
        "        'Opções': ['4', '5', '2', '1'],\n",
        "        'Resposta': '5',\n",
        "    },\n",
        "]\n",
        "\n",
        "for pergunta in perguntas:\n",
        "    print(pergunta['Pergunta'])\n",
        "    for opcao in pergunta['Opções']:\n",
        "        print(f'{opcao}')\n",
        "    resposta_usuario = input('Resposta: ')\n",
        "    if resposta_usuario == pergunta['Resposta']:\n",
        "        qtd_acertos += 1\n",
        "        print('Acertou')\n",
        "    else:\n",
        "        print('Errou')\n",
        "print(f\"Você acertou {qtd_acertos} perguntas\")        \n",
        "\n"
      ],
      "metadata": {
        "id": "4bwBcougO6j0",
        "colab": {
          "base_uri": "https://localhost:8080/"
        },
        "outputId": "53d7710b-f3ce-4855-a622-cdc403351369"
      },
      "execution_count": 45,
      "outputs": [
        {
          "output_type": "stream",
          "name": "stdout",
          "text": [
            "Quanto é 2+2?\n",
            "1\n",
            "3\n",
            "4\n",
            "5\n",
            "Resposta: 4\n",
            "Acertou\n",
            "Quanto é 5*5?\n",
            "25\n",
            "55\n",
            "10\n",
            "51\n",
            "Resposta: 5\n",
            "Errou\n",
            "Quanto é 10/2?\n",
            "4\n",
            "5\n",
            "2\n",
            "1\n",
            "Resposta: 5\n",
            "Acertou\n",
            "Você acertou 2 perguntas\n"
          ]
        }
      ]
    },
    {
      "cell_type": "markdown",
      "source": [
        "Resposta do professor "
      ],
      "metadata": {
        "id": "4FNANtFJrEks"
      }
    },
    {
      "cell_type": "code",
      "source": [
        "# Exercício - sistema de perguntas e respostas\n",
        "\n",
        "qtd_acertos = 0\n",
        "perguntas = [\n",
        "    {\n",
        "        'Pergunta': 'Quanto é 2+2?',\n",
        "        'Opções': ['1', '3', '4', '5'],\n",
        "        'Resposta': '4',\n",
        "    },\n",
        "    {\n",
        "        'Pergunta': 'Quanto é 5*5?',\n",
        "        'Opções': ['25', '55', '10', '51'],\n",
        "        'Resposta': '25',\n",
        "    },\n",
        "    {\n",
        "        'Pergunta': 'Quanto é 10/2?',\n",
        "        'Opções': ['4', '5', '2', '1'],\n",
        "        'Resposta': '5',\n",
        "    },\n",
        "]\n",
        "for pergunta in perguntas:\n",
        "    print('Pergunta: ', pergunta['Pergunta'])\n",
        "    print()\n",
        "    opcoes = pergunta['Opções']\n",
        "    for i, opcao in enumerate (opcoes):\n",
        "        print(f'{i})', opcao)\n",
        "\n",
        "    print()\n",
        "    escolha = input('Qual é a alternativa correta: ')\n",
        "\n",
        "    acertou = False\n",
        "    escolha_int = None\n",
        "    qtd_opcoes = len(opcoes)\n",
        "\n",
        "    if escolha.isdigit():\n",
        "        escolha_int = int(escolha)\n",
        "    else:\n",
        "      print('Digite uma opção válida')\n",
        "\n",
        "    if escolha_int is not None:\n",
        "        if escolha_int >= 0 and escolha_int < qtd_opcoes:\n",
        "            if opcoes[escolha_int] == pergunta['Resposta']:\n",
        "                acertou = True\n",
        "            \n",
        "    #os.system('cls')\n",
        "    if acertou:\n",
        "        print('Acertou ')\n",
        "        qtd_acertos+=1\n",
        "    else:\n",
        "        print('Errou')\n",
        "\n",
        "print(f'Você acertou {qtd_acertos} de {len(perguntas)} Perguntas')"
      ],
      "metadata": {
        "colab": {
          "base_uri": "https://localhost:8080/",
          "height": 676
        },
        "id": "P3LlQHqErHcY",
        "outputId": "63c700e0-6fea-4053-cdf1-a01c3d40741f"
      },
      "execution_count": 47,
      "outputs": [
        {
          "output_type": "stream",
          "name": "stdout",
          "text": [
            "Pergunta:  Quanto é 2+2?\n",
            "\n",
            "0) 1\n",
            "1) 3\n",
            "2) 4\n",
            "3) 5\n",
            "\n",
            "Qual é a alternativa correta: a\n",
            "Digite uma opção válida\n",
            "Errou\n",
            "Pergunta:  Quanto é 5*5?\n",
            "\n",
            "0) 25\n",
            "1) 55\n",
            "2) 10\n",
            "3) 51\n",
            "\n"
          ]
        },
        {
          "output_type": "error",
          "ename": "KeyboardInterrupt",
          "evalue": "ignored",
          "traceback": [
            "\u001b[0;31m---------------------------------------------------------------------------\u001b[0m",
            "\u001b[0;31mKeyboardInterrupt\u001b[0m                         Traceback (most recent call last)",
            "\u001b[0;32m<ipython-input-47-a17e7650343f>\u001b[0m in \u001b[0;36m<module>\u001b[0;34m\u001b[0m\n\u001b[1;32m     27\u001b[0m \u001b[0;34m\u001b[0m\u001b[0m\n\u001b[1;32m     28\u001b[0m     \u001b[0mprint\u001b[0m\u001b[0;34m(\u001b[0m\u001b[0;34m)\u001b[0m\u001b[0;34m\u001b[0m\u001b[0;34m\u001b[0m\u001b[0m\n\u001b[0;32m---> 29\u001b[0;31m     \u001b[0mescolha\u001b[0m \u001b[0;34m=\u001b[0m \u001b[0minput\u001b[0m\u001b[0;34m(\u001b[0m\u001b[0;34m'Qual é a alternativa correta: '\u001b[0m\u001b[0;34m)\u001b[0m\u001b[0;34m\u001b[0m\u001b[0;34m\u001b[0m\u001b[0m\n\u001b[0m\u001b[1;32m     30\u001b[0m \u001b[0;34m\u001b[0m\u001b[0m\n\u001b[1;32m     31\u001b[0m     \u001b[0macertou\u001b[0m \u001b[0;34m=\u001b[0m \u001b[0;32mFalse\u001b[0m\u001b[0;34m\u001b[0m\u001b[0;34m\u001b[0m\u001b[0m\n",
            "\u001b[0;32m/usr/local/lib/python3.9/dist-packages/ipykernel/kernelbase.py\u001b[0m in \u001b[0;36mraw_input\u001b[0;34m(self, prompt)\u001b[0m\n\u001b[1;32m    858\u001b[0m                 \u001b[0;34m\"raw_input was called, but this frontend does not support input requests.\"\u001b[0m\u001b[0;34m\u001b[0m\u001b[0;34m\u001b[0m\u001b[0m\n\u001b[1;32m    859\u001b[0m             )\n\u001b[0;32m--> 860\u001b[0;31m         return self._input_request(str(prompt),\n\u001b[0m\u001b[1;32m    861\u001b[0m             \u001b[0mself\u001b[0m\u001b[0;34m.\u001b[0m\u001b[0m_parent_ident\u001b[0m\u001b[0;34m,\u001b[0m\u001b[0;34m\u001b[0m\u001b[0;34m\u001b[0m\u001b[0m\n\u001b[1;32m    862\u001b[0m             \u001b[0mself\u001b[0m\u001b[0;34m.\u001b[0m\u001b[0m_parent_header\u001b[0m\u001b[0;34m,\u001b[0m\u001b[0;34m\u001b[0m\u001b[0;34m\u001b[0m\u001b[0m\n",
            "\u001b[0;32m/usr/local/lib/python3.9/dist-packages/ipykernel/kernelbase.py\u001b[0m in \u001b[0;36m_input_request\u001b[0;34m(self, prompt, ident, parent, password)\u001b[0m\n\u001b[1;32m    902\u001b[0m             \u001b[0;32mexcept\u001b[0m \u001b[0mKeyboardInterrupt\u001b[0m\u001b[0;34m:\u001b[0m\u001b[0;34m\u001b[0m\u001b[0;34m\u001b[0m\u001b[0m\n\u001b[1;32m    903\u001b[0m                 \u001b[0;31m# re-raise KeyboardInterrupt, to truncate traceback\u001b[0m\u001b[0;34m\u001b[0m\u001b[0;34m\u001b[0m\u001b[0m\n\u001b[0;32m--> 904\u001b[0;31m                 \u001b[0;32mraise\u001b[0m \u001b[0mKeyboardInterrupt\u001b[0m\u001b[0;34m(\u001b[0m\u001b[0;34m\"Interrupted by user\"\u001b[0m\u001b[0;34m)\u001b[0m \u001b[0;32mfrom\u001b[0m \u001b[0;32mNone\u001b[0m\u001b[0;34m\u001b[0m\u001b[0;34m\u001b[0m\u001b[0m\n\u001b[0m\u001b[1;32m    905\u001b[0m             \u001b[0;32mexcept\u001b[0m \u001b[0mException\u001b[0m \u001b[0;32mas\u001b[0m \u001b[0me\u001b[0m\u001b[0;34m:\u001b[0m\u001b[0;34m\u001b[0m\u001b[0;34m\u001b[0m\u001b[0m\n\u001b[1;32m    906\u001b[0m                 \u001b[0mself\u001b[0m\u001b[0;34m.\u001b[0m\u001b[0mlog\u001b[0m\u001b[0;34m.\u001b[0m\u001b[0mwarning\u001b[0m\u001b[0;34m(\u001b[0m\u001b[0;34m\"Invalid Message:\"\u001b[0m\u001b[0;34m,\u001b[0m \u001b[0mexc_info\u001b[0m\u001b[0;34m=\u001b[0m\u001b[0;32mTrue\u001b[0m\u001b[0;34m)\u001b[0m\u001b[0;34m\u001b[0m\u001b[0;34m\u001b[0m\u001b[0m\n",
            "\u001b[0;31mKeyboardInterrupt\u001b[0m: Interrupted by user"
          ]
        }
      ]
    }
  ]
}