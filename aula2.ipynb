{
  "nbformat": 4,
  "nbformat_minor": 0,
  "metadata": {
    "colab": {
      "provenance": [],
      "authorship_tag": "ABX9TyPDUl3pvdnEhW44dvegYp56",
      "include_colab_link": true
    },
    "kernelspec": {
      "name": "python3",
      "display_name": "Python 3"
    },
    "language_info": {
      "name": "python"
    }
  },
  "cells": [
    {
      "cell_type": "markdown",
      "metadata": {
        "id": "view-in-github",
        "colab_type": "text"
      },
      "source": [
        "<a href=\"https://colab.research.google.com/github/carlinhoshk/Aulas-Curso-Python-Senai/blob/main/aula2.ipynb\" target=\"_parent\"><img src=\"https://colab.research.google.com/assets/colab-badge.svg\" alt=\"Open In Colab\"/></a>"
      ]
    },
    {
      "cell_type": "code",
      "execution_count": null,
      "metadata": {
        "id": "KDqPLUIxEqbA"
      },
      "outputs": [],
      "source": []
    },
    {
      "cell_type": "markdown",
      "source": [
        "1.\n",
        "\n",
        "- Entrar no banheiro \n",
        "- Tirar a roupa\n",
        "- Abrir o box do chuveiro\n",
        "- Ligar o chuveiro\n",
        "- Ensaboar o corpo\n",
        "- Enxaguar o corpo\n",
        "- Desligar o chuveiro\n",
        "- Secar o corpo\n",
        "- Por a roupa\n",
        "- Sair do banheiro .\n",
        "\n",
        "\n"
      ],
      "metadata": {
        "id": "-AYPwa-FEyR_"
      }
    }
  ]
}