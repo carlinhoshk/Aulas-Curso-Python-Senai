{
  "nbformat": 4,
  "nbformat_minor": 0,
  "metadata": {
    "colab": {
      "provenance": [],
      "authorship_tag": "ABX9TyP/mGuPMA2aNE53ArN1OKyJ",
      "include_colab_link": true
    },
    "kernelspec": {
      "name": "python3",
      "display_name": "Python 3"
    },
    "language_info": {
      "name": "python"
    }
  },
  "cells": [
    {
      "cell_type": "markdown",
      "metadata": {
        "id": "view-in-github",
        "colab_type": "text"
      },
      "source": [
        "<a href=\"https://colab.research.google.com/github/carlinhoshk/Aulas-Curso-Python-Senai/blob/main/aula1.ipynb\" target=\"_parent\"><img src=\"https://colab.research.google.com/assets/colab-badge.svg\" alt=\"Open In Colab\"/></a>"
      ]
    },
    {
      "cell_type": "markdown",
      "source": [
        "Aula 1 - DocString - Escrever o que quis"
      ],
      "metadata": {
        "id": "Y1bEvCYTHBd1"
      }
    },
    {
      "cell_type": "code",
      "execution_count": 48,
      "metadata": {
        "colab": {
          "base_uri": "https://localhost:8080/"
        },
        "id": "5xTso_x4G0yi",
        "outputId": "ba0b2416-af5b-40b4-a0d8-84edf34fe1b2"
      },
      "outputs": [
        {
          "output_type": "stream",
          "name": "stdout",
          "text": [
            "Ola Mundo\n",
            "123\n"
          ]
        }
      ],
      "source": [
        "print('Ola Mundo')\n",
        "print(123)"
      ]
    },
    {
      "cell_type": "code",
      "source": [
        "print(12, 34 , 1011, sep=\" | \")\n",
        "\n",
        "print(1, 2, 3, 4, sep=\" - \",end= '\\n')"
      ],
      "metadata": {
        "colab": {
          "base_uri": "https://localhost:8080/"
        },
        "id": "hKo0ektQHxxc",
        "outputId": "dd8d1bcb-0e9e-4e0a-d19d-fc9cf5c41001"
      },
      "execution_count": 8,
      "outputs": [
        {
          "output_type": "stream",
          "name": "stdout",
          "text": [
            "12 | 34 | 1011\n",
            "1 - 2 - 3 - 4\n"
          ]
        }
      ]
    },
    {
      "cell_type": "code",
      "source": [
        "a = 50\n",
        "b = 100\n",
        "\n",
        "if (a > b):\n",
        "  print(f\"{a} é maior que {b}\")\n",
        "else:\n",
        "  print(f\"{b} é maior que {a}\")  "
      ],
      "metadata": {
        "id": "erllS9nHIG1j"
      },
      "execution_count": null,
      "outputs": []
    },
    {
      "cell_type": "markdown",
      "source": [
        "DocString\n",
        "Python - Linguagem de programação de tipagem forte str\n",
        "string -> texto = Srings são textos que estão dentro de aspas \" \" como '' "
      ],
      "metadata": {
        "id": "s9qsL1d8M-Me"
      }
    },
    {
      "cell_type": "code",
      "source": [
        "# print('Carlos andré')\n",
        "\n",
        "# print('Carlos \"andré\"')\n",
        "\n",
        "# print(\"Carlos andré\")\n",
        "\n",
        "# print(\"Carlos, 'andré'\")\n",
        "\n",
        "# print(\"'Carlos' 'andré'\")\n",
        "\n",
        "# Comentario\n",
        "# Comentar todas as linhas ctrl + :"
      ],
      "metadata": {
        "id": "mbjgC-g-IG57"
      },
      "execution_count": null,
      "outputs": []
    },
    {
      "cell_type": "code",
      "source": [
        "# Escape \n",
        "\n",
        "print(r\"carlos\\\"andre\\\"\")\n"
      ],
      "metadata": {
        "id": "_XtNUMe7OQxu"
      },
      "execution_count": null,
      "outputs": []
    },
    {
      "cell_type": "markdown",
      "source": [
        "Tipo Int e float\n",
        "int -> Número inteiro\n",
        "o tipo int representa qualquer numero "
      ],
      "metadata": {
        "id": "vcxvRJ2yQ1ap"
      }
    },
    {
      "cell_type": "code",
      "source": [
        "print(11)\n",
        "print(-11)\n",
        "print(0)"
      ],
      "metadata": {
        "id": "pJR2brvuQ0Nr"
      },
      "execution_count": null,
      "outputs": []
    },
    {
      "cell_type": "markdown",
      "source": [
        "Float -> Número com ponto flutuante, ou seja representa qualquer numero, negativo ou positivo com casa decimais..."
      ],
      "metadata": {
        "id": "yjZ1EGb2RrTZ"
      }
    },
    {
      "cell_type": "code",
      "source": [
        "print(1.1, 10.11)\n",
        "print(0.0, -1.5)\n"
      ],
      "metadata": {
        "colab": {
          "base_uri": "https://localhost:8080/"
        },
        "id": "E_anYYqYRRUh",
        "outputId": "fab0a8fa-922a-4da8-ffbe-fc33c428972a"
      },
      "execution_count": 38,
      "outputs": [
        {
          "output_type": "stream",
          "name": "stdout",
          "text": [
            "1.1 10.11\n",
            "0.0 -1.5\n"
          ]
        }
      ]
    },
    {
      "cell_type": "markdown",
      "source": [
        "A função type mostra o tipo da variavel que o python atribuiu a variavel automaticamente."
      ],
      "metadata": {
        "id": "nQSk4D3wSeEa"
      }
    },
    {
      "cell_type": "code",
      "source": [
        "print(type('Carlos'))\n",
        "print(type(12))\n",
        "print(type('Carlos'), type(0), type(0.9999), type(-0.123))\n",
        "\n",
        "\n"
      ],
      "metadata": {
        "id": "1CcTwol9SAiX"
      },
      "execution_count": null,
      "outputs": []
    },
    {
      "cell_type": "markdown",
      "source": [
        "Tipo Bool(Boolean) ao questionar algo sobre um programa, só existe duas possiveis reposta para o retorno. True | False\n",
        "Existe varios operadores que podem ser usada com o Bool como =="
      ],
      "metadata": {
        "id": "npFCD-gSTohn"
      }
    },
    {
      "cell_type": "code",
      "source": [
        "print(type(True))\n",
        "print(type(False))\n",
        "print(type(10==10))\n"
      ],
      "metadata": {
        "colab": {
          "base_uri": "https://localhost:8080/"
        },
        "id": "Sq_XqUW_Uc53",
        "outputId": "125d1cd2-a0ae-4d71-a854-886f958ea84a"
      },
      "execution_count": 47,
      "outputs": [
        {
          "output_type": "stream",
          "name": "stdout",
          "text": [
            "<class 'bool'>\n",
            "<class 'bool'>\n",
            "<class 'bool'>\n"
          ]
        }
      ]
    }
  ]
}